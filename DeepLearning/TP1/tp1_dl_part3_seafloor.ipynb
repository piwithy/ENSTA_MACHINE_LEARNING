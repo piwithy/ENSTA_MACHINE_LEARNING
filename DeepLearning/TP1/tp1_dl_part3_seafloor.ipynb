{
 "cells": [
  {
   "cell_type": "markdown",
   "metadata": {},
   "source": [
    "# Partie 3: application à la classification de fonds marins\n"
   ]
  },
  {
   "cell_type": "markdown",
   "metadata": {},
   "source": [
    "Dans la suite, vous êtes chargé :\n",
    "- d'appliquer la démarche décrite dans la partie 2 aux données des images sonar de fonds marins rencontrés précédemment. \n",
    "- Analyser proprement les performances\n",
    "- Modifier l'architecture de réseau pour améliorer les performances\n",
    "\n",
    "Si vous ne savez pas commencer, le script ci-dessous pourra certainement vous aider à démarrer.\n"
   ]
  },
  {
   "cell_type": "code",
   "execution_count": 5,
   "metadata": {},
   "outputs": [],
   "source": [
    "import tensorflow as tf\n",
    "import tensorflow_datasets as tfds\n",
    "import tensorflow.keras as keras\n",
    "import tools\n",
    "import numpy as np\n",
    "import matplotlib.pyplot as plt\n",
    "import pandas as pd\n",
    "from sklearn import preprocessing"
   ]
  },
  {
   "cell_type": "code",
   "execution_count": 6,
   "metadata": {},
   "outputs": [],
   "source": [
    "import sys\n",
    "IN_COLAB = 'google.colab' in sys.modules\n",
    "\n",
    "if IN_COLAB:\n",
    "    DATASET_PATH = 'gdrive/My Drive/Colab Notebooks/ex06_supervised_seabedClassification/dataset/imgs/'\n",
    "    LABEL_PATH = 'gdrive/My Drive/Colab Notebooks/ex06_supervised_seabedClassification/dataset/labels/labels.csv'\n",
    "else:\n",
    "    IN_COLAB = False\n",
    "    DATASET_PATH = r'./dataset/imgs/'\n",
    "    LABEL_PATH = r'./dataset/labels/labels.csv'\n",
    "\n",
    "# Charger le fichier CSV\n",
    "dataset_df = pd.read_csv(LABEL_PATH)\n",
    "dataset_df['image_path'] = dataset_df.apply(lambda row: (DATASET_PATH + row[\"id\"]), axis=1)\n",
    "\n",
    "\n",
    "# Charger les images et les labels\n",
    "images = np.array([plt.imread(img) for img in dataset_df['image_path'].values.tolist()])\n",
    "label_names = dataset_df['seafloor'].to_numpy()\n",
    "\n",
    "# transformer les labels en indices\n",
    "label_names = dataset_df['seafloor']\n",
    "\n",
    "label_names_unique = label_names.unique()\n",
    "le = preprocessing.LabelEncoder()\n",
    "le.fit(label_names_unique)\n",
    "label_indices = le.transform(label_names)\n",
    "\n",
    "\n",
    "# rajout d'une dimension chanel pour coller au formalisme de tensorflow\n",
    "images = images[...,np.newaxis]\n",
    "\n",
    "\n",
    "# Création du dataset en objet tf.data.Dataset\n",
    "tf_dataset = tf.data.Dataset.from_tensor_slices((images, label_indices))\n",
    "\n",
    "    "
   ]
  },
  {
   "cell_type": "code",
   "execution_count": null,
   "metadata": {},
   "outputs": [],
   "source": []
  }
 ],
 "metadata": {
  "kernelspec": {
   "display_name": "Python 3",
   "language": "python",
   "name": "python3"
  },
  "language_info": {
   "codemirror_mode": {
    "name": "ipython",
    "version": 3
   },
   "file_extension": ".py",
   "mimetype": "text/x-python",
   "name": "python",
   "nbconvert_exporter": "python",
   "pygments_lexer": "ipython3",
   "version": "3.8.6"
  }
 },
 "nbformat": 4,
 "nbformat_minor": 4
}
